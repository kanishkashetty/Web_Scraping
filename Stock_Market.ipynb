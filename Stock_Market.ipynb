{
  "nbformat": 4,
  "nbformat_minor": 0,
  "metadata": {
    "colab": {
      "name": "Stock_Market.ipynb",
      "provenance": [],
      "collapsed_sections": [],
      "authorship_tag": "ABX9TyOGcvFoLMUKstK+gqiRiuZb",
      "include_colab_link": true
    },
    "kernelspec": {
      "name": "python3",
      "display_name": "Python 3"
    },
    "language_info": {
      "name": "python"
    }
  },
  "cells": [
    {
      "cell_type": "markdown",
      "metadata": {
        "id": "view-in-github",
        "colab_type": "text"
      },
      "source": [
        "<a href=\"https://colab.research.google.com/github/kanishkashetty/Web_Scraping/blob/main/Stock_Market.ipynb\" target=\"_parent\"><img src=\"https://colab.research.google.com/assets/colab-badge.svg\" alt=\"Open In Colab\"/></a>"
      ]
    },
    {
      "cell_type": "code",
      "execution_count": 1,
      "metadata": {
        "id": "mdqsB8S14JVs"
      },
      "outputs": [],
      "source": [
        "import pandas as pd\n",
        "import numpy as np\n",
        "import requests\n",
        "from bs4 import BeautifulSoup\n"
      ]
    },
    {
      "cell_type": "code",
      "source": [
        "website='https://www.moneycontrol.com/stocksmarketsindia/'\n",
        "website_url=requests.get(website).text\n",
        "soup = BeautifulSoup(website_url,'html.parser')"
      ],
      "metadata": {
        "id": "4IylQabG4NDQ"
      },
      "execution_count": 7,
      "outputs": []
    },
    {
      "cell_type": "code",
      "source": [
        "my_table = soup.find('tbody')"
      ],
      "metadata": {
        "id": "NfYF2Zz84VVZ"
      },
      "execution_count": 8,
      "outputs": []
    },
    {
      "cell_type": "code",
      "source": [
        "table_data = []\n",
        "for row in my_table.findAll('tr'):\n",
        "    row_data = []\n",
        "    for cell in row.findAll('td'):\n",
        "        row_data.append(cell.text)\n",
        "    if(len(row_data) > 0):\n",
        "        data_item = {\"Indices\": row_data[0],\n",
        "                     \"Price\t\": row_data[1],\n",
        "                     \"Change\": row_data[2],\n",
        "                     \"% Chg\": row_data[3]\n",
        "                     \n",
        "        }\n",
        "        table_data.append(data_item)"
      ],
      "metadata": {
        "id": "pIjRfT8Q4NL1"
      },
      "execution_count": 10,
      "outputs": []
    },
    {
      "cell_type": "code",
      "source": [
        "df = pd.DataFrame(table_data)"
      ],
      "metadata": {
        "id": "N5SQYr4t4nQ_"
      },
      "execution_count": 11,
      "outputs": []
    },
    {
      "cell_type": "code",
      "source": [
        "df.to_excel('SECTORAL_INDICES.xlsx', index=True)"
      ],
      "metadata": {
        "id": "ImUsqfsS4rew"
      },
      "execution_count": 14,
      "outputs": []
    }
  ]
}